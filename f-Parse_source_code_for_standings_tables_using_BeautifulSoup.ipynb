{
 "cells": [
  {
   "cell_type": "code",
   "execution_count": 1,
   "metadata": {},
   "outputs": [],
   "source": [
    "## 14 - June - 2023"
   ]
  },
  {
   "cell_type": "code",
   "execution_count": 2,
   "metadata": {},
   "outputs": [],
   "source": [
    "from bs4 import BeautifulSoup\n",
    "import pandas as pd"
   ]
  },
  {
   "cell_type": "code",
   "execution_count": 3,
   "metadata": {},
   "outputs": [],
   "source": [
    "leagues = ['AL','NL']\n",
    "seasons = list(range(2003,2023))"
   ]
  },
  {
   "cell_type": "code",
   "execution_count": 4,
   "metadata": {},
   "outputs": [],
   "source": [
    "all_AL_standings_DataFrames = []\n",
    "all_NL_standings_DataFrames = []\n",
    "\n",
    "for season in seasons:\n",
    "    for league in leagues:\n",
    "        league_standings_for_season = []\n",
    "        if league == 'AL':\n",
    "            with open('../Data/AL_standings_webpages/AL_standings_{}.html'.format(season), encoding='utf-8') as file:\n",
    "                page = file.read()\n",
    "        else:\n",
    "            with open('../Data/NL_standings_webpages/NL_standings_{}.html'.format(season), encoding='utf-8') as file:\n",
    "                page = file.read()\n",
    "        \n",
    "        soup_for_current_page = BeautifulSoup(page, 'html.parser')\n",
    "        \n",
    "        for division in 'ECW':\n",
    "            division_standings_code = soup_for_current_page.find(id='all_standings_{}'.format(division))\n",
    "            division_standings_DataFrame = pd.read_html(str(division_standings_code))[0]\n",
    "            league_standings_for_season.append(division_standings_DataFrame)\n",
    "        \n",
    "        league_standings_for_season_DataFrame = pd.concat(league_standings_for_season)\n",
    "        league_standings_for_season_DataFrame['Season'] = season\n",
    "        if league == 'AL':\n",
    "            all_AL_standings_DataFrames.append(league_standings_for_season_DataFrame)\n",
    "        else:\n",
    "            all_NL_standings_DataFrames.append(league_standings_for_season_DataFrame)"
   ]
  },
  {
   "cell_type": "code",
   "execution_count": 5,
   "metadata": {},
   "outputs": [],
   "source": [
    "AL_standings = pd.concat(all_AL_standings_DataFrames)\n",
    "NL_standings = pd.concat(all_NL_standings_DataFrames)"
   ]
  },
  {
   "cell_type": "code",
   "execution_count": 6,
   "metadata": {},
   "outputs": [],
   "source": [
    "AL_standings.to_csv('../Data/AL_standings.csv', encoding='utf-8-sig')\n",
    "NL_standings.to_csv('../Data/NL_standings.csv', encoding='utf-8-sig')"
   ]
  }
 ],
 "metadata": {
  "kernelspec": {
   "display_name": "Python 3",
   "language": "python",
   "name": "python3"
  },
  "language_info": {
   "codemirror_mode": {
    "name": "ipython",
    "version": 3
   },
   "file_extension": ".py",
   "mimetype": "text/x-python",
   "name": "python",
   "nbconvert_exporter": "python",
   "pygments_lexer": "ipython3",
   "version": "3.8.5"
  }
 },
 "nbformat": 4,
 "nbformat_minor": 4
}
