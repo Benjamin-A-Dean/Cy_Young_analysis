{
 "cells": [
  {
   "cell_type": "code",
   "execution_count": 1,
   "metadata": {},
   "outputs": [],
   "source": [
    "## 14 - July - 2023"
   ]
  },
  {
   "cell_type": "code",
   "execution_count": 2,
   "metadata": {},
   "outputs": [],
   "source": [
    "import pandas as pd"
   ]
  },
  {
   "cell_type": "code",
   "execution_count": 3,
   "metadata": {},
   "outputs": [],
   "source": [
    "AL_pitching_stats_DataFrame = pd.read_csv('../Data/AL_pitching_stats.csv')\n",
    "NL_pitching_stats_DataFrame = pd.read_csv('../Data/NL_pitching_stats.csv')"
   ]
  },
  {
   "cell_type": "code",
   "execution_count": 4,
   "metadata": {},
   "outputs": [],
   "source": [
    "AL_pitching_stats_DataFrame = AL_pitching_stats_DataFrame.drop('Rk', axis=1)\n",
    "NL_pitching_stats_DataFrame = NL_pitching_stats_DataFrame.drop('Rk', axis=1)"
   ]
  },
  {
   "cell_type": "code",
   "execution_count": 5,
   "metadata": {},
   "outputs": [],
   "source": [
    "AL_pitching_stats_DataFrame['Name'] = AL_pitching_stats_DataFrame['Name'].str.replace('*', '', regex=False)\n",
    "AL_pitching_stats_DataFrame['Name'] = AL_pitching_stats_DataFrame['Name'].str.replace('\\xa0', ' ')\n",
    "NL_pitching_stats_DataFrame['Name'] = NL_pitching_stats_DataFrame['Name'].str.replace('*', '', regex=False)\n",
    "NL_pitching_stats_DataFrame['Name'] = NL_pitching_stats_DataFrame['Name'].str.replace('\\xa0', ' ')"
   ]
  },
  {
   "cell_type": "code",
   "execution_count": 6,
   "metadata": {},
   "outputs": [],
   "source": [
    "AL_pitching_stats_DataFrame['W-L%_undefined'] = (AL_pitching_stats_DataFrame['W-L%'].apply\n",
    "                                                (lambda winning_pct: 1 if pd.isnull(winning_pct) == True else 0))\n",
    "NL_pitching_stats_DataFrame['W-L%_undefined'] = (NL_pitching_stats_DataFrame['W-L%'].apply\n",
    "                                                (lambda winning_pct: 1 if pd.isnull(winning_pct) == True else 0))"
   ]
  },
  {
   "cell_type": "code",
   "execution_count": 7,
   "metadata": {},
   "outputs": [],
   "source": [
    "AL_pitching_stats_DataFrame['W-L%'] = AL_pitching_stats_DataFrame['W-L%'].fillna(0)\n",
    "NL_pitching_stats_DataFrame['W-L%'] = NL_pitching_stats_DataFrame['W-L%'].fillna(0)"
   ]
  },
  {
   "cell_type": "code",
   "execution_count": 8,
   "metadata": {},
   "outputs": [],
   "source": [
    "# Brayan Villarreal faced only 1 batter while pitching for the Red Sox resulting in a walk #\n",
    "AL_pitching_stats_DataFrame.loc[3678, 'ERA'] = 20.77\n",
    "\n",
    "# Randy Choate faced 3 batters while pitching for the Diamondbacks resulting in 3 hits #\n",
    "NL_pitching_stats_DataFrame.loc[1586, 'ERA'] = 0.00\n",
    "# Shawn Tolleson faced 2 batters while pitching for the Dodgers resulting in 2 walks #\n",
    "NL_pitching_stats_DataFrame.loc[4241, 'ERA'] = 0.00\n",
    "# Jake Esch faced 2 batters while pitching for the Padres resulting in 2 walks #\n",
    "NL_pitching_stats_DataFrame.loc[5602, 'ERA'] = 0.00"
   ]
  },
  {
   "cell_type": "code",
   "execution_count": 9,
   "metadata": {},
   "outputs": [],
   "source": [
    "# all rows with null values for 'SO/W' have value 0 for 'BB' #\n",
    "AL_pitching_stats_DataFrame.loc[(AL_pitching_stats_DataFrame['SO/W'].isnull() == True) & \n",
    "                    (AL_pitching_stats_DataFrame['SO'] >= 5), 'SO/W'] = round(AL_pitching_stats_DataFrame['SO/W'].mean(), 2)\n",
    "AL_pitching_stats_DataFrame.loc[(AL_pitching_stats_DataFrame['SO/W'].isnull() == True) & \n",
    "                                (AL_pitching_stats_DataFrame['SO'] < 5), 'SO/W'] = 0.00\n",
    "NL_pitching_stats_DataFrame.loc[(NL_pitching_stats_DataFrame['SO/W'].isnull() == True) & \n",
    "                    (NL_pitching_stats_DataFrame['SO'] >= 5), 'SO/W'] = round(NL_pitching_stats_DataFrame['SO/W'].mean(), 2)\n",
    "NL_pitching_stats_DataFrame.loc[(NL_pitching_stats_DataFrame['SO/W'].isnull() == True) & \n",
    "                                (NL_pitching_stats_DataFrame['SO'] < 5), 'SO/W'] = 0.00"
   ]
  },
  {
   "cell_type": "code",
   "execution_count": 10,
   "metadata": {},
   "outputs": [],
   "source": [
    "AL_pitching_stats_DataFrame.loc[(AL_pitching_stats_DataFrame['ERA+'].isnull() == True) &\n",
    "                    (AL_pitching_stats_DataFrame['IP'] > 0.0), 'ERA+'] = round(AL_pitching_stats_DataFrame['ERA+'].mean(), 1)\n",
    "NL_pitching_stats_DataFrame.loc[(NL_pitching_stats_DataFrame['ERA+'].isnull() == True) &\n",
    "                    (NL_pitching_stats_DataFrame['IP'] > 0.0), 'ERA+'] = round(NL_pitching_stats_DataFrame['ERA+'].mean(), 1)"
   ]
  },
  {
   "cell_type": "code",
   "execution_count": 11,
   "metadata": {},
   "outputs": [],
   "source": [
    "# all cases in which 'WHIP' values are null are more accurately infinite or undefined #\n",
    "AL_pitching_stats_DataFrame = AL_pitching_stats_DataFrame[AL_pitching_stats_DataFrame['WHIP'].isnull() == False]\n",
    "NL_pitching_stats_DataFrame = NL_pitching_stats_DataFrame[NL_pitching_stats_DataFrame['WHIP'].isnull() == False]"
   ]
  },
  {
   "cell_type": "code",
   "execution_count": 12,
   "metadata": {},
   "outputs": [],
   "source": [
    "AL_pitching_stats_column_headers = list(AL_pitching_stats_DataFrame.columns)\n",
    "AL_pitching_stats_column_headers = (AL_pitching_stats_column_headers[:6] +\n",
    "                                   [AL_pitching_stats_column_headers[-1]] +\n",
    "                                    AL_pitching_stats_column_headers[6:-1])\n",
    "AL_pitching_stats_DataFrame = AL_pitching_stats_DataFrame[AL_pitching_stats_column_headers]\n",
    "\n",
    "NL_pitching_stats_column_headers = list(NL_pitching_stats_DataFrame.columns)\n",
    "NL_pitching_stats_column_headers = (NL_pitching_stats_column_headers[:6] +\n",
    "                                   [NL_pitching_stats_column_headers[-1]] +\n",
    "                                    NL_pitching_stats_column_headers[6:-1])\n",
    "NL_pitching_stats_DataFrame = NL_pitching_stats_DataFrame[NL_pitching_stats_column_headers]"
   ]
  },
  {
   "cell_type": "code",
   "execution_count": 13,
   "metadata": {},
   "outputs": [],
   "source": [
    "AL_pitching_stats_DataFrame.to_csv('../Data/AL_pitching_stats_cleaned.csv', index=False)\n",
    "NL_pitching_stats_DataFrame.to_csv('../Data/NL_pitching_stats_cleaned.csv', index=False)"
   ]
  }
 ],
 "metadata": {
  "kernelspec": {
   "display_name": "Python 3",
   "language": "python",
   "name": "python3"
  },
  "language_info": {
   "codemirror_mode": {
    "name": "ipython",
    "version": 3
   },
   "file_extension": ".py",
   "mimetype": "text/x-python",
   "name": "python",
   "nbconvert_exporter": "python",
   "pygments_lexer": "ipython3",
   "version": "3.8.5"
  }
 },
 "nbformat": 4,
 "nbformat_minor": 4
}
