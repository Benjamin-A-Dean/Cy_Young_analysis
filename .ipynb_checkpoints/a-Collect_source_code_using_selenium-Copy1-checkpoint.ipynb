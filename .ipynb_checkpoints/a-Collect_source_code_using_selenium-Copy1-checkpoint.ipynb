{
 "cells": [
  {
   "cell_type": "code",
   "execution_count": 1,
   "metadata": {},
   "outputs": [],
   "source": [
    "## 31 - May - 2023"
   ]
  },
  {
   "cell_type": "code",
   "execution_count": 2,
   "metadata": {},
   "outputs": [],
   "source": [
    "from selenium import webdriver"
   ]
  },
  {
   "cell_type": "code",
   "execution_count": 3,
   "metadata": {},
   "outputs": [],
   "source": [
    "seasons = list(range(2003,2023))\n",
    "initial_url = 'https://www.baseball-reference.com/awards/awards_{}.shtml'"
   ]
  },
  {
   "cell_type": "code",
   "execution_count": 4,
   "metadata": {},
   "outputs": [],
   "source": [
    "path = 'C:\\Program Files (x86)\\chromedriver'\n",
    "driver = webdriver.Chrome(path)\n",
    "\n",
    "for season in seasons:\n",
    "    current_url = initial_url.format(season)\n",
    "    driver.get(current_url)\n",
    "    page_source = driver.page_source\n",
    "    \n",
    "    # 'w+' instructs program to open file in write/read mode, 'w' opens file for writing only #\n",
    "    with open('Cy_Young_award_winners/Cy_Young_award_winner{}.html'.format(season), 'w', encoding='utf-8') as file:\n",
    "        file.write(page_source)"
   ]
  }
 ],
 "metadata": {
  "kernelspec": {
   "display_name": "Python 3",
   "language": "python",
   "name": "python3"
  },
  "language_info": {
   "codemirror_mode": {
    "name": "ipython",
    "version": 3
   },
   "file_extension": ".py",
   "mimetype": "text/x-python",
   "name": "python",
   "nbconvert_exporter": "python",
   "pygments_lexer": "ipython3",
   "version": "3.8.5"
  }
 },
 "nbformat": 4,
 "nbformat_minor": 4
}
