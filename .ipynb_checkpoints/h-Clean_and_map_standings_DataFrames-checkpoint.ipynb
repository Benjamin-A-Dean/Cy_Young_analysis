{
 "cells": [
  {
   "cell_type": "code",
   "execution_count": 1,
   "metadata": {},
   "outputs": [],
   "source": [
    "## 25 - July - 2023"
   ]
  },
  {
   "cell_type": "code",
   "execution_count": 2,
   "metadata": {},
   "outputs": [],
   "source": [
    "import pandas as pd\n",
    "import pickle"
   ]
  },
  {
   "cell_type": "code",
   "execution_count": 3,
   "metadata": {},
   "outputs": [],
   "source": [
    "AL_standings_DataFrame = pd.read_csv('../Data/AL_standings.csv', index_col=[0])\n",
    "NL_standings_DataFrame = pd.read_csv('../Data/NL_standings.csv', index_col=[0])\n",
    "\n",
    "with open('../Data/Team_names_and_abbreviations_map_dict.pkl', 'rb') as file:\n",
    "    Team_names_and_abbreviations_map_dict = pickle.load(file)"
   ]
  },
  {
   "cell_type": "code",
   "execution_count": 4,
   "metadata": {},
   "outputs": [],
   "source": [
    "AL_standings_DataFrame = AL_standings_DataFrame.rename(columns={'Tm':'Team', 'W':'Team_W', 'L':'Team_L', 'W-L%':'Team_W-L%'})\n",
    "NL_standings_DataFrame = NL_standings_DataFrame.rename(columns={'Tm':'Team', 'W':'Team_W', 'L':'Team_L', 'W-L%':'Team_W-L%'})"
   ]
  },
  {
   "cell_type": "code",
   "execution_count": 5,
   "metadata": {},
   "outputs": [],
   "source": [
    "AL_standings_DataFrame['Tm'] = AL_standings_DataFrame['Team'].map(Team_names_and_abbreviations_map_dict)\n",
    "NL_standings_DataFrame['Tm'] = NL_standings_DataFrame['Team'].map(Team_names_and_abbreviations_map_dict)"
   ]
  },
  {
   "cell_type": "code",
   "execution_count": 6,
   "metadata": {},
   "outputs": [],
   "source": [
    "AL_standings_DataFrame['GB'] = AL_standings_DataFrame['GB'].str.replace('--', '0.0')\n",
    "NL_standings_DataFrame['GB'] = NL_standings_DataFrame['GB'].str.replace('--', '0.0')"
   ]
  },
  {
   "cell_type": "code",
   "execution_count": 7,
   "metadata": {},
   "outputs": [],
   "source": [
    "AL_standings_DataFrame['GB'] = AL_standings_DataFrame['GB'].astype('float64')\n",
    "NL_standings_DataFrame['GB'] = NL_standings_DataFrame['GB'].astype('float64')"
   ]
  },
  {
   "cell_type": "code",
   "execution_count": 8,
   "metadata": {},
   "outputs": [],
   "source": [
    "AL_standings_column_headers = list(AL_standings_DataFrame.columns)\n",
    "AL_standings_column_headers = ([AL_standings_column_headers[0]] +\n",
    "                               [AL_standings_column_headers[-1]] +\n",
    "                                AL_standings_column_headers[1:-1])\n",
    "AL_standings_DataFrame = AL_standings_DataFrame[AL_standings_column_headers]\n",
    "\n",
    "NL_standings_column_headers = list(NL_standings_DataFrame.columns)\n",
    "NL_standings_column_headers = ([NL_standings_column_headers[0]] +\n",
    "                               [NL_standings_column_headers[-1]] +\n",
    "                                NL_standings_column_headers[1:-1])\n",
    "NL_standings_DataFrame = NL_standings_DataFrame[NL_standings_column_headers]"
   ]
  },
  {
   "cell_type": "code",
   "execution_count": 9,
   "metadata": {},
   "outputs": [],
   "source": [
    "AL_standings_DataFrame.to_csv('../Data/AL_standings_updated.csv', index=False)\n",
    "NL_standings_DataFrame.to_csv('../Data/NL_standings_updated.csv', index=False)"
   ]
  }
 ],
 "metadata": {
  "kernelspec": {
   "display_name": "Python 3",
   "language": "python",
   "name": "python3"
  },
  "language_info": {
   "codemirror_mode": {
    "name": "ipython",
    "version": 3
   },
   "file_extension": ".py",
   "mimetype": "text/x-python",
   "name": "python",
   "nbconvert_exporter": "python",
   "pygments_lexer": "ipython3",
   "version": "3.8.5"
  }
 },
 "nbformat": 4,
 "nbformat_minor": 4
}
