{
 "cells": [
  {
   "cell_type": "code",
   "execution_count": 1,
   "metadata": {},
   "outputs": [],
   "source": [
    "## 8 - June - 2023"
   ]
  },
  {
   "cell_type": "code",
   "execution_count": 2,
   "metadata": {},
   "outputs": [],
   "source": [
    "from bs4 import BeautifulSoup\n",
    "import pandas as pd"
   ]
  },
  {
   "cell_type": "code",
   "execution_count": 3,
   "metadata": {},
   "outputs": [],
   "source": [
    "leagues = ['AL','NL']\n",
    "seasons = list(range(2003,2006))"
   ]
  },
  {
   "cell_type": "code",
   "execution_count": 4,
   "metadata": {},
   "outputs": [
    {
     "name": "stdout",
     "output_type": "stream",
     "text": [
      "2003 American League\n",
      "2003 National League\n",
      "\n",
      "\n",
      "2004 American League\n",
      "2004 National League\n",
      "\n",
      "\n",
      "2005 American League\n",
      "2005 National League\n",
      "\n",
      "\n"
     ]
    }
   ],
   "source": [
    "for season in seasons:\n",
    "    for league in leagues:\n",
    "        if league == 'AL':\n",
    "            with open('../Data/AL_season_stats_webpages/AL_season_stats_{}.html'.format(season), encoding='utf-8') as file:\n",
    "                page = file.read()\n",
    "        else:\n",
    "            with open('../Data/NL_season_stats_webpages/NL_season_stats_{}.html'.format(season), encoding='utf-8') as file:\n",
    "                page = file.read()\n",
    "            \n",
    "        soup_for_current_page = BeautifulSoup(page, 'html.parser')\n",
    "        title_code = soup_for_current_page.find(id='info')\n",
    "        title_code_elements = title_code.find_all('span')\n",
    "        print(' '.join([element.text for element in title_code_elements][:-1]))\n",
    "    print('\\n')"
   ]
  }
 ],
 "metadata": {
  "kernelspec": {
   "display_name": "Python 3",
   "language": "python",
   "name": "python3"
  },
  "language_info": {
   "codemirror_mode": {
    "name": "ipython",
    "version": 3
   },
   "file_extension": ".py",
   "mimetype": "text/x-python",
   "name": "python",
   "nbconvert_exporter": "python",
   "pygments_lexer": "ipython3",
   "version": "3.8.5"
  }
 },
 "nbformat": 4,
 "nbformat_minor": 4
}
