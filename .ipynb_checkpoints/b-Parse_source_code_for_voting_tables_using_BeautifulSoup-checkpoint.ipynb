{
 "cells": [
  {
   "cell_type": "code",
   "execution_count": 1,
   "metadata": {},
   "outputs": [],
   "source": [
    "## 31 - May - 2023"
   ]
  },
  {
   "cell_type": "code",
   "execution_count": 2,
   "metadata": {},
   "outputs": [],
   "source": [
    "from bs4 import BeautifulSoup\n",
    "import pandas as pd"
   ]
  },
  {
   "cell_type": "code",
   "execution_count": 3,
   "metadata": {},
   "outputs": [],
   "source": [
    "seasons = list(range(2003,2023))"
   ]
  },
  {
   "cell_type": "code",
   "execution_count": 4,
   "metadata": {},
   "outputs": [],
   "source": [
    "all_AL_voting_DataFrames = []\n",
    "all_NL_voting_DataFrames = []\n",
    "\n",
    "for season in seasons:\n",
    "    with open('../Data/Cy_Young_award_winners_webpages/Cy_Young_award_winner_{}.html'.format(season), encoding='utf-8') as file:\n",
    "        page = file.read()\n",
    "    \n",
    "    soup_for_current_page = BeautifulSoup(page, 'html.parser')\n",
    "    al_voting_table_code = soup_for_current_page.find(id='AL_CYA_voting')\n",
    "    nl_voting_table_code = soup_for_current_page.find(id='NL_CYA_voting')\n",
    "    \n",
    "    al_voting_DataFrame = pd.read_html(str(al_voting_table_code))[0]\n",
    "    nl_voting_DataFrame = pd.read_html(str(nl_voting_table_code))[0]\n",
    "    \n",
    "    al_voting_DataFrame['Season'] = season\n",
    "    nl_voting_DataFrame['Season'] = season\n",
    "    \n",
    "    all_AL_voting_DataFrames.append(al_voting_DataFrame)\n",
    "    all_NL_voting_DataFrames.append(nl_voting_DataFrame)"
   ]
  },
  {
   "cell_type": "code",
   "execution_count": 5,
   "metadata": {},
   "outputs": [],
   "source": [
    "AL_cy_young_voting = pd.concat(all_AL_voting_DataFrames)\n",
    "NL_cy_young_voting = pd.concat(all_NL_voting_DataFrames)"
   ]
  },
  {
   "cell_type": "code",
   "execution_count": 6,
   "metadata": {},
   "outputs": [],
   "source": [
    "# left out 'WAR' because pitching stats DataFrames did not contain this data #\n",
    "columns_to_keep = ['Name', 'Vote Pts', '1st Place', 'Share', 'Season']\n",
    "AL_cy_young_voting = AL_cy_young_voting[columns_to_keep]\n",
    "NL_cy_young_voting = NL_cy_young_voting[columns_to_keep]"
   ]
  },
  {
   "cell_type": "code",
   "execution_count": 7,
   "metadata": {},
   "outputs": [],
   "source": [
    "AL_cy_young_voting['Share'] = AL_cy_young_voting['Share'].str[:-1].astype('float')/100\n",
    "NL_cy_young_voting['Share'] = NL_cy_young_voting['Share'].str[:-1].astype('float')/100"
   ]
  },
  {
   "cell_type": "code",
   "execution_count": 8,
   "metadata": {},
   "outputs": [],
   "source": [
    "AL_cy_young_voting.to_csv('../Data/AL_cy_young_voting.csv', index=False)\n",
    "NL_cy_young_voting.to_csv('../Data/NL_cy_young_voting.csv', index=False)"
   ]
  }
 ],
 "metadata": {
  "kernelspec": {
   "display_name": "Python 3",
   "language": "python",
   "name": "python3"
  },
  "language_info": {
   "codemirror_mode": {
    "name": "ipython",
    "version": 3
   },
   "file_extension": ".py",
   "mimetype": "text/x-python",
   "name": "python",
   "nbconvert_exporter": "python",
   "pygments_lexer": "ipython3",
   "version": "3.8.5"
  }
 },
 "nbformat": 4,
 "nbformat_minor": 4
}
