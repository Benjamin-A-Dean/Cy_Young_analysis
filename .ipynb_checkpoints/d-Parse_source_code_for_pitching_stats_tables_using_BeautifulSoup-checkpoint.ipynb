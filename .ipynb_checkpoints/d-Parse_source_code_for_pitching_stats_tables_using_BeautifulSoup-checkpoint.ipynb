{
 "cells": [
  {
   "cell_type": "code",
   "execution_count": 1,
   "metadata": {},
   "outputs": [],
   "source": [
    "## 13 - June - 2023"
   ]
  },
  {
   "cell_type": "code",
   "execution_count": 2,
   "metadata": {},
   "outputs": [],
   "source": [
    "from bs4 import BeautifulSoup\n",
    "from selenium import webdriver\n",
    "import pandas as pd"
   ]
  },
  {
   "cell_type": "code",
   "execution_count": 3,
   "metadata": {},
   "outputs": [],
   "source": [
    "leagues = ['AL','NL']\n",
    "seasons = list(range(2003,2023))"
   ]
  },
  {
   "cell_type": "code",
   "execution_count": 4,
   "metadata": {},
   "outputs": [],
   "source": [
    "all_AL_pitching_stats_DataFrames = []\n",
    "all_NL_pitching_stats_DataFrames = []\n",
    "\n",
    "for season in seasons:\n",
    "    for league in leagues:\n",
    "        if league == 'AL':\n",
    "            with open('../Data/AL_season_stats_webpages/AL_season_stats_{}.html'.format(season), encoding='utf-8') as file:\n",
    "                page = file.read()\n",
    "        else:\n",
    "            with open('../Data/NL_season_stats_webpages/NL_season_stats_{}.html'.format(season), encoding='utf-8') as file:\n",
    "                page = file.read()\n",
    "    \n",
    "        soup_for_current_page = BeautifulSoup(page, 'html.parser')\n",
    "        for header_reminder in soup_for_current_page.find_all('tr', class_='thead'):\n",
    "            header_reminder.decompose()\n",
    "        stats_table_code = soup_for_current_page.find(id='players_standard_pitching')\n",
    "        pitching_stats_DataFrame = pd.read_html(str(stats_table_code))[0]\n",
    "        pitching_stats_DataFrame['Season'] = season\n",
    "        \n",
    "        if league == 'AL':\n",
    "            all_AL_pitching_stats_DataFrames.append(pitching_stats_DataFrame)\n",
    "        else:\n",
    "            all_NL_pitching_stats_DataFrames.append(pitching_stats_DataFrame)"
   ]
  },
  {
   "cell_type": "code",
   "execution_count": 5,
   "metadata": {},
   "outputs": [],
   "source": [
    "AL_pitching_stats = pd.concat(all_AL_pitching_stats_DataFrames)\n",
    "NL_pitching_stats = pd.concat(all_NL_pitching_stats_DataFrames)"
   ]
  },
  {
   "cell_type": "code",
   "execution_count": 6,
   "metadata": {},
   "outputs": [],
   "source": [
    "AL_pitching_stats = AL_pitching_stats.reset_index(drop=True)\n",
    "NL_pitching_stats = NL_pitching_stats.reset_index(drop=True)"
   ]
  },
  {
   "cell_type": "code",
   "execution_count": 7,
   "metadata": {},
   "outputs": [],
   "source": [
    "AL_average_rows_indices = AL_pitching_stats[AL_pitching_stats['Name'] == 'LgAvg per 180 IP'].index\n",
    "AL_pitching_stats = AL_pitching_stats.drop(AL_average_rows_indices)\n",
    "\n",
    "NL_average_rows_indices = NL_pitching_stats[NL_pitching_stats['Name'] == 'LgAvg per 180 IP'].index\n",
    "NL_pitching_stats = NL_pitching_stats.drop(NL_average_rows_indices)"
   ]
  },
  {
   "cell_type": "code",
   "execution_count": 8,
   "metadata": {},
   "outputs": [],
   "source": [
    "AL_pitching_stats.to_csv('../Data/AL_pitching_stats.csv', encoding='utf-8-sig', index=False)\n",
    "NL_pitching_stats.to_csv('../Data/NL_pitching_stats.csv', encoding='utf-8-sig', index=False)"
   ]
  }
 ],
 "metadata": {
  "kernelspec": {
   "display_name": "Python 3",
   "language": "python",
   "name": "python3"
  },
  "language_info": {
   "codemirror_mode": {
    "name": "ipython",
    "version": 3
   },
   "file_extension": ".py",
   "mimetype": "text/x-python",
   "name": "python",
   "nbconvert_exporter": "python",
   "pygments_lexer": "ipython3",
   "version": "3.8.5"
  }
 },
 "nbformat": 4,
 "nbformat_minor": 4
}
