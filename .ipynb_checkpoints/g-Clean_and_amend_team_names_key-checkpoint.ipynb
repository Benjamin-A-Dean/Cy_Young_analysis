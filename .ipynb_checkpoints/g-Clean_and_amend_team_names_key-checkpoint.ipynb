{
 "cells": [
  {
   "cell_type": "code",
   "execution_count": 1,
   "metadata": {},
   "outputs": [],
   "source": [
    "## 6 - July - 2023"
   ]
  },
  {
   "cell_type": "code",
   "execution_count": 2,
   "metadata": {},
   "outputs": [],
   "source": [
    "import pandas as pd\n",
    "import pickle"
   ]
  },
  {
   "cell_type": "code",
   "execution_count": 3,
   "metadata": {},
   "outputs": [],
   "source": [
    "Team_names_and_abbreviations_map = pd.read_csv('../Data/Team_map_from_SmartFantasyBaseball.com.csv')"
   ]
  },
  {
   "cell_type": "code",
   "execution_count": 4,
   "metadata": {},
   "outputs": [],
   "source": [
    "Team_names_and_abbreviations_map = Team_names_and_abbreviations_map[['BBREFTEAM', 'ROSTERRESOURCEURL']]"
   ]
  },
  {
   "cell_type": "code",
   "execution_count": 5,
   "metadata": {},
   "outputs": [],
   "source": [
    "Team_names_and_abbreviations_map = Team_names_and_abbreviations_map.rename(columns={'BBREFTEAM':'Abbreviations',\n",
    "                                                                                    'ROSTERRESOURCEURL':'Names'})"
   ]
  },
  {
   "cell_type": "code",
   "execution_count": 6,
   "metadata": {},
   "outputs": [],
   "source": [
    "Team_names_and_abbreviations_map['Names'] = Team_names_and_abbreviations_map['Names'].str[4:]\n",
    "Team_names_and_abbreviations_map['Names'] = Team_names_and_abbreviations_map['Names'].str.replace('-', ' ', regex=False)\n",
    "Team_names_and_abbreviations_map['Names'] = Team_names_and_abbreviations_map['Names'].str.title()"
   ]
  },
  {
   "cell_type": "code",
   "execution_count": 7,
   "metadata": {},
   "outputs": [],
   "source": [
    "Team_names_and_abbreviations_map.at[25, 'Names'] = 'St. Louis Cardinals'\n",
    "\n",
    "anaheim_angels_row = pd.DataFrame({'Abbreviations':'ANA', 'Names':'Anaheim Angels'}, index=[0])\n",
    "Team_names_and_abbreviations_map = pd.concat([anaheim_angels_row,\n",
    "                                              Team_names_and_abbreviations_map.loc[:]]).reset_index(drop=True)"
   ]
  },
  {
   "cell_type": "code",
   "execution_count": 8,
   "metadata": {},
   "outputs": [],
   "source": [
    "Team_names_and_abbreviations_map.loc[7.5] = ['CLE', 'Cleveland Guardians']\n",
    "Team_names_and_abbreviations_map.loc[10.5] = ['FLA', 'Florida Marlins']\n",
    "Team_names_and_abbreviations_map.loc[13.5] = ['LAA', 'Los Angeles Angels of Anaheim']\n",
    "Team_names_and_abbreviations_map.loc[18.5] = ['MON', 'Montreal Expos']\n",
    "Team_names_and_abbreviations_map.loc[26.5] = ['TBD', 'Tampa Bay Devil Rays']"
   ]
  },
  {
   "cell_type": "code",
   "execution_count": 9,
   "metadata": {},
   "outputs": [],
   "source": [
    "Team_names_and_abbreviations_map = Team_names_and_abbreviations_map.sort_index().reset_index(drop=True)"
   ]
  },
  {
   "cell_type": "code",
   "execution_count": 10,
   "metadata": {},
   "outputs": [],
   "source": [
    "Team_names_and_abbreviations_map_dict = dict(Team_names_and_abbreviations_map.values)\n",
    "Team_names_and_abbreviations_map_dict = {name:abbrev for abbrev, name in Team_names_and_abbreviations_map_dict.items()}"
   ]
  },
  {
   "cell_type": "code",
   "execution_count": 11,
   "metadata": {},
   "outputs": [],
   "source": [
    "Team_names_and_abbreviations_map_dict['Cleveland Guardians'] = 'CLE'\n",
    "Team_names_and_abbreviations_map_dict['Los Angeles Angels'] = 'LAA'"
   ]
  },
  {
   "cell_type": "code",
   "execution_count": 12,
   "metadata": {},
   "outputs": [],
   "source": [
    "Team_names_and_abbreviations_map_dict = dict(sorted(Team_names_and_abbreviations_map_dict.items()))"
   ]
  },
  {
   "cell_type": "code",
   "execution_count": 13,
   "metadata": {},
   "outputs": [],
   "source": [
    "with open('../Data/Team_names_and_abbreviations_map_dict.pkl', 'wb') as file:\n",
    "    pickle.dump(Team_names_and_abbreviations_map_dict, file)"
   ]
  }
 ],
 "metadata": {
  "kernelspec": {
   "display_name": "Python 3",
   "language": "python",
   "name": "python3"
  },
  "language_info": {
   "codemirror_mode": {
    "name": "ipython",
    "version": 3
   },
   "file_extension": ".py",
   "mimetype": "text/x-python",
   "name": "python",
   "nbconvert_exporter": "python",
   "pygments_lexer": "ipython3",
   "version": "3.8.5"
  }
 },
 "nbformat": 4,
 "nbformat_minor": 4
}
