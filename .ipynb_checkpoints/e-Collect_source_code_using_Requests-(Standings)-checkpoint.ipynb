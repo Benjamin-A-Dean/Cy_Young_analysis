{
 "cells": [
  {
   "cell_type": "code",
   "execution_count": 1,
   "metadata": {},
   "outputs": [],
   "source": [
    "## 14 - June - 2023"
   ]
  },
  {
   "cell_type": "code",
   "execution_count": 2,
   "metadata": {},
   "outputs": [],
   "source": [
    "from time import sleep\n",
    "import requests"
   ]
  },
  {
   "cell_type": "code",
   "execution_count": 3,
   "metadata": {},
   "outputs": [],
   "source": [
    "leagues = ['AL','NL']\n",
    "seasons = list(range(2003,2023))\n",
    "initial_url = 'https://www.baseball-reference.com/leagues/{}/{}-standings.shtml'"
   ]
  },
  {
   "cell_type": "code",
   "execution_count": 4,
   "metadata": {},
   "outputs": [],
   "source": [
    "for season in seasons:\n",
    "    for league in leagues:\n",
    "        current_url = initial_url.format(league, season)\n",
    "        page_source_text = requests.get(current_url).text\n",
    "        \n",
    "        if league == 'AL':\n",
    "            with open('../Data/AL_standings_webpages/AL_standings_{}.html'.format(season),\n",
    "                      'w', encoding='utf-8') as file:\n",
    "                file.write(page_source_text)\n",
    "        else:\n",
    "            with open('../Data/NL_standings_webpages/NL_standings_{}.html'.format(season),\n",
    "                      'w', encoding='utf-8') as file:\n",
    "                file.write(page_source_text)\n",
    "    sleep(7)"
   ]
  }
 ],
 "metadata": {
  "kernelspec": {
   "display_name": "Python 3",
   "language": "python",
   "name": "python3"
  },
  "language_info": {
   "codemirror_mode": {
    "name": "ipython",
    "version": 3
   },
   "file_extension": ".py",
   "mimetype": "text/x-python",
   "name": "python",
   "nbconvert_exporter": "python",
   "pygments_lexer": "ipython3",
   "version": "3.8.5"
  }
 },
 "nbformat": 4,
 "nbformat_minor": 4
}
