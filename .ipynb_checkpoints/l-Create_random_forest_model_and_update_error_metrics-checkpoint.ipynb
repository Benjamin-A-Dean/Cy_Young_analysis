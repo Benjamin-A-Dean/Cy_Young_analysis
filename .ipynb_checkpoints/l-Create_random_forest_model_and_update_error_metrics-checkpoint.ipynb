{
 "cells": [
  {
   "cell_type": "code",
   "execution_count": 1,
   "metadata": {},
   "outputs": [],
   "source": [
    "## 2 - August - 2023"
   ]
  },
  {
   "cell_type": "code",
   "execution_count": 2,
   "metadata": {},
   "outputs": [],
   "source": [
    "from sklearn.ensemble import RandomForestRegressor\n",
    "import pandas as pd"
   ]
  },
  {
   "cell_type": "code",
   "execution_count": 3,
   "metadata": {},
   "outputs": [],
   "source": [
    "error_metrics_DataFrame = pd.read_csv('../Data/error_metrics.csv')\n",
    "\n",
    "AL_DataFrame = pd.read_csv('../Data/AL_data_updated.csv')\n",
    "NL_DataFrame = pd.read_csv('../Data/NL_data_updated.csv')"
   ]
  },
  {
   "cell_type": "code",
   "execution_count": 4,
   "metadata": {},
   "outputs": [],
   "source": [
    "AL_DataFrame['Team_ID'] = AL_DataFrame['Team'].astype('category').cat.codes\n",
    "NL_DataFrame['Team_ID'] = NL_DataFrame['Team'].astype('category').cat.codes"
   ]
  },
  {
   "cell_type": "code",
   "execution_count": 5,
   "metadata": {},
   "outputs": [],
   "source": [
    "features = ['Age', 'W', 'L', 'W-L%', 'W-L%_undefined', 'ERA', 'G', 'GS', 'GF', 'CG', 'SHO', 'SV',\n",
    "            'IP', 'H', 'R', 'ER', 'HR', 'BB', 'IBB', 'SO', 'HBP', 'BK', 'WP', 'BF', 'ERA+', 'FIP',\n",
    "            'WHIP', 'H9', 'HR9', 'BB9', 'SO9', 'SO/W', 'Season', 'Team_W', 'Team_L', 'Team_W-L%',\n",
    "            'GB', 'W_ratios', 'ERA_ratios', 'SO_ratios', 'IP_ratios', 'Team_ID']"
   ]
  },
  {
   "cell_type": "code",
   "execution_count": 6,
   "metadata": {},
   "outputs": [],
   "source": [
    "random_forest_instance = RandomForestRegressor(min_samples_split=5, n_estimators=50, random_state=28)"
   ]
  },
  {
   "cell_type": "code",
   "execution_count": 7,
   "metadata": {},
   "outputs": [],
   "source": [
    "def ranking_difference_calculator(share_DataFrame):\n",
    "    share_DataFrame = share_DataFrame.sort_values('Share', ascending=False)\n",
    "    share_DataFrame['Rank'] = list(range(1,share_DataFrame.shape[0]+1))\n",
    "    share_DataFrame = share_DataFrame.sort_values('Predictions', ascending=False)\n",
    "    share_DataFrame['Predicted_Rank'] = list(range(1,share_DataFrame.shape[0]+1))\n",
    "    share_DataFrame['Rank_Difference'] = share_DataFrame['Rank'] - share_DataFrame['Predicted_Rank']\n",
    "    return share_DataFrame"
   ]
  },
  {
   "cell_type": "code",
   "execution_count": 8,
   "metadata": {},
   "outputs": [],
   "source": [
    "def average_precision_finder(rankings_DataFrame):\n",
    "    actual_top_5 = rankings_DataFrame.sort_values('Share', ascending=False).head(5)\n",
    "    predictions = rankings_DataFrame.sort_values('Predictions', ascending=False)\n",
    "    precisions = []\n",
    "    found = 0\n",
    "    checked = 1\n",
    "    for index, row in predictions.iterrows():\n",
    "        if row['Name'] in actual_top_5['Name'].values:\n",
    "            found += 1\n",
    "            precisions.append(found/checked)\n",
    "        checked += 1\n",
    "    return (sum(precisions)) / (len(precisions))"
   ]
  },
  {
   "cell_type": "code",
   "execution_count": 9,
   "metadata": {},
   "outputs": [],
   "source": [
    "def backtest(league_stats, model_instance, seasons, features):    \n",
    "    average_precisions = []\n",
    "    all_predictions = []\n",
    "    for season in seasons:\n",
    "        training_data = league_stats[league_stats['Season'] < season]\n",
    "        testing_data = league_stats[league_stats['Season'] == season]\n",
    "        model_instance.fit(training_data[features], training_data['Share'])\n",
    "        predictions = model_instance.predict(testing_data[features]) \n",
    "        predictions = pd.DataFrame(predictions, columns=['Predictions'], index=testing_data.index)\n",
    "        actual_and_predictions = pd.concat([testing_data[['Name', 'Share']], predictions], axis=1)\n",
    "        actual_and_predictions = ranking_difference_calculator(actual_and_predictions)\n",
    "        all_predictions.append(actual_and_predictions)\n",
    "        average_precisions.append(average_precision_finder(actual_and_predictions))\n",
    "    return ((sum(average_precisions))/(len(average_precisions)), average_precisions, pd.concat(all_predictions))"
   ]
  },
  {
   "cell_type": "code",
   "execution_count": 10,
   "metadata": {},
   "outputs": [],
   "source": [
    "AL_mean_average_precision, AL_average_precisions, AL_all_predictions = backtest(AL_DataFrame, random_forest_instance,\n",
    "                                                                                list(range(2008,2023)), features)\n",
    "NL_mean_average_precision, NL_average_precisions, NL_all_predictions = backtest(NL_DataFrame, random_forest_instance,\n",
    "                                                                                list(range(2008,2023)), features)"
   ]
  },
  {
   "cell_type": "code",
   "execution_count": 11,
   "metadata": {},
   "outputs": [],
   "source": [
    "error_metrics_DataFrame['Random_Forest'] = pd.Series([AL_mean_average_precision, NL_mean_average_precision])"
   ]
  },
  {
   "cell_type": "code",
   "execution_count": 12,
   "metadata": {},
   "outputs": [
    {
     "data": {
      "text/html": [
       "<div>\n",
       "<style scoped>\n",
       "    .dataframe tbody tr th:only-of-type {\n",
       "        vertical-align: middle;\n",
       "    }\n",
       "\n",
       "    .dataframe tbody tr th {\n",
       "        vertical-align: top;\n",
       "    }\n",
       "\n",
       "    .dataframe thead th {\n",
       "        text-align: right;\n",
       "    }\n",
       "</style>\n",
       "<table border=\"1\" class=\"dataframe\">\n",
       "  <thead>\n",
       "    <tr style=\"text-align: right;\">\n",
       "      <th></th>\n",
       "      <th>League</th>\n",
       "      <th>Ridge_regression</th>\n",
       "      <th>Ridge_regression_upd</th>\n",
       "      <th>Random_Forest</th>\n",
       "    </tr>\n",
       "  </thead>\n",
       "  <tbody>\n",
       "    <tr>\n",
       "      <th>0</th>\n",
       "      <td>American League</td>\n",
       "      <td>0.778134</td>\n",
       "      <td>0.778361</td>\n",
       "      <td>0.864881</td>\n",
       "    </tr>\n",
       "    <tr>\n",
       "      <th>1</th>\n",
       "      <td>National League</td>\n",
       "      <td>0.730907</td>\n",
       "      <td>0.711087</td>\n",
       "      <td>0.864228</td>\n",
       "    </tr>\n",
       "  </tbody>\n",
       "</table>\n",
       "</div>"
      ],
      "text/plain": [
       "            League  Ridge_regression  Ridge_regression_upd  Random_Forest\n",
       "0  American League          0.778134              0.778361       0.864881\n",
       "1  National League          0.730907              0.711087       0.864228"
      ]
     },
     "execution_count": 12,
     "metadata": {},
     "output_type": "execute_result"
    }
   ],
   "source": [
    "error_metrics_DataFrame"
   ]
  }
 ],
 "metadata": {
  "kernelspec": {
   "display_name": "Python 3",
   "language": "python",
   "name": "python3"
  },
  "language_info": {
   "codemirror_mode": {
    "name": "ipython",
    "version": 3
   },
   "file_extension": ".py",
   "mimetype": "text/x-python",
   "name": "python",
   "nbconvert_exporter": "python",
   "pygments_lexer": "ipython3",
   "version": "3.8.5"
  }
 },
 "nbformat": 4,
 "nbformat_minor": 4
}
