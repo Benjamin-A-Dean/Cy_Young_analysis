{
 "cells": [
  {
   "cell_type": "code",
   "execution_count": 1,
   "metadata": {},
   "outputs": [],
   "source": [
    "## 19 - June - 2023"
   ]
  },
  {
   "cell_type": "code",
   "execution_count": 2,
   "metadata": {},
   "outputs": [],
   "source": [
    "import pandas as pd"
   ]
  },
  {
   "cell_type": "code",
   "execution_count": 3,
   "metadata": {},
   "outputs": [],
   "source": [
    "AL_cy_young_voting_DataFrame = pd.read_csv('../Data/AL_cy_young_voting.csv')\n",
    "NL_cy_young_voting_DataFrame = pd.read_csv('../Data/NL_cy_young_voting.csv')\n",
    "\n",
    "AL_pitching_stats_DataFrame = pd.read_csv('../Data/AL_pitching_stats_cleaned.csv')\n",
    "NL_pitching_stats_DataFrame = pd.read_csv('../Data/NL_pitching_stats_cleaned.csv')\n",
    "\n",
    "AL_standings_DataFrame = pd.read_csv('../Data/AL_standings_updated.csv')\n",
    "NL_standings_DataFrame = pd.read_csv('../Data/NL_standings_updated.csv')"
   ]
  },
  {
   "cell_type": "code",
   "execution_count": 4,
   "metadata": {},
   "outputs": [],
   "source": [
    "def group_consolidater(group):\n",
    "    if group.shape[0] == 1:\n",
    "        return group\n",
    "    else:\n",
    "        keeper_row = group[group['Tm'] == 'TOT']\n",
    "        keeper_row['Tm'] = group.iloc[-1,:]['Tm']\n",
    "        return keeper_row"
   ]
  },
  {
   "cell_type": "code",
   "execution_count": 5,
   "metadata": {},
   "outputs": [],
   "source": [
    "# add 'Age' to groupby criteria to address issue of multiple players with the same name#\n",
    "AL_pitching_stats_DataFrame = AL_pitching_stats_DataFrame.groupby(['Name', 'Age', 'Season']).apply(group_consolidater)\n",
    "NL_pitching_stats_DataFrame = NL_pitching_stats_DataFrame.groupby(['Name', 'Age', 'Season']).apply(group_consolidater)"
   ]
  },
  {
   "cell_type": "code",
   "execution_count": 6,
   "metadata": {},
   "outputs": [],
   "source": [
    "for iteration in range(3):\n",
    "    AL_pitching_stats_DataFrame.index = AL_pitching_stats_DataFrame.index.droplevel()\n",
    "    NL_pitching_stats_DataFrame.index = NL_pitching_stats_DataFrame.index.droplevel()"
   ]
  },
  {
   "cell_type": "code",
   "execution_count": 7,
   "metadata": {},
   "outputs": [],
   "source": [
    "AL_stats_and_voting_DataFrame = AL_pitching_stats_DataFrame.merge(AL_cy_young_voting_DataFrame,\n",
    "                                                                  how='outer', on=['Name', 'Season'])\n",
    "NL_stats_and_voting_DataFrame = NL_pitching_stats_DataFrame.merge(NL_cy_young_voting_DataFrame,\n",
    "                                                                  how='outer', on=['Name', 'Season'])"
   ]
  },
  {
   "cell_type": "code",
   "execution_count": 8,
   "metadata": {},
   "outputs": [],
   "source": [
    "AL_stats_and_voting_DataFrame[['Vote Pts',\n",
    "                               '1st Place',\n",
    "                               'Share']] = AL_stats_and_voting_DataFrame[['Vote Pts', '1st Place', 'Share']].fillna(0)\n",
    "NL_stats_and_voting_DataFrame[['Vote Pts',\n",
    "                               '1st Place',\n",
    "                               'Share']] = NL_stats_and_voting_DataFrame[['Vote Pts', '1st Place', 'Share']].fillna(0)"
   ]
  },
  {
   "cell_type": "code",
   "execution_count": 9,
   "metadata": {},
   "outputs": [],
   "source": [
    "AL_stats_and_voting_DataFrame.at[5879, ['Vote Pts', '1st Place', 'Share']] = [0.0, 0.0, 0.0]"
   ]
  },
  {
   "cell_type": "code",
   "execution_count": 10,
   "metadata": {},
   "outputs": [],
   "source": [
    "AL_stats_voting_standings_DataFrame = AL_stats_and_voting_DataFrame.merge(AL_standings_DataFrame,\n",
    "                                                                          how='outer', on=['Tm', 'Season'])\n",
    "NL_stats_voting_standings_DataFrame = NL_stats_and_voting_DataFrame.merge(NL_standings_DataFrame,\n",
    "                                                                          how='outer', on=['Tm', 'Season'])"
   ]
  },
  {
   "cell_type": "code",
   "execution_count": 11,
   "metadata": {},
   "outputs": [],
   "source": [
    "AL_stats_voting_standings_DataFrame.to_csv('../Data/AL_data.csv', index=False)\n",
    "NL_stats_voting_standings_DataFrame.to_csv('../Data/NL_data.csv', index=False)"
   ]
  }
 ],
 "metadata": {
  "kernelspec": {
   "display_name": "Python 3",
   "language": "python",
   "name": "python3"
  },
  "language_info": {
   "codemirror_mode": {
    "name": "ipython",
    "version": 3
   },
   "file_extension": ".py",
   "mimetype": "text/x-python",
   "name": "python",
   "nbconvert_exporter": "python",
   "pygments_lexer": "ipython3",
   "version": "3.8.5"
  }
 },
 "nbformat": 4,
 "nbformat_minor": 4
}
