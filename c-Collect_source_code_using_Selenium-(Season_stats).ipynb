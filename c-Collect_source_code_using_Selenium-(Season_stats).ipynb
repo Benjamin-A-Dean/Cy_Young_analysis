{
 "cells": [
  {
   "cell_type": "code",
   "execution_count": 1,
   "metadata": {},
   "outputs": [],
   "source": [
    "## 8 - June - 2023"
   ]
  },
  {
   "cell_type": "code",
   "execution_count": 2,
   "metadata": {},
   "outputs": [],
   "source": [
    "from selenium import webdriver"
   ]
  },
  {
   "cell_type": "code",
   "execution_count": 3,
   "metadata": {},
   "outputs": [],
   "source": [
    "leagues = ['AL','NL']\n",
    "seasons = list(range(2003,2023))\n",
    "initial_url = 'https://www.baseball-reference.com/leagues/{}/{}-standard-pitching.shtml'"
   ]
  },
  {
   "cell_type": "code",
   "execution_count": 4,
   "metadata": {},
   "outputs": [],
   "source": [
    "path = 'C:\\Program Files (x86)\\chromedriver'\n",
    "driver = webdriver.Chrome(path)\n",
    "\n",
    "for season in seasons:\n",
    "    for league in leagues:\n",
    "        current_url = initial_url.format(league, season)\n",
    "        driver.get(current_url)\n",
    "        page_source = driver.page_source\n",
    "        \n",
    "        if league == 'AL':\n",
    "            with open('../Data/AL_season_stats_webpages/AL_season_stats_{}.html'.format(season),\n",
    "                      'w', encoding='utf-8') as file:\n",
    "                file.write(page_source)\n",
    "        else:\n",
    "            with open('../Data/NL_season_stats_webpages/NL_season_stats_{}.html'.format(season),\n",
    "                      'w', encoding='utf-8') as file:\n",
    "                file.write(page_source)"
   ]
  }
 ],
 "metadata": {
  "kernelspec": {
   "display_name": "Python 3",
   "language": "python",
   "name": "python3"
  },
  "language_info": {
   "codemirror_mode": {
    "name": "ipython",
    "version": 3
   },
   "file_extension": ".py",
   "mimetype": "text/x-python",
   "name": "python",
   "nbconvert_exporter": "python",
   "pygments_lexer": "ipython3",
   "version": "3.8.5"
  }
 },
 "nbformat": 4,
 "nbformat_minor": 4
}
